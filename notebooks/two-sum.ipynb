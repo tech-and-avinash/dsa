{
 "cells": [
  {
   "cell_type": "code",
   "execution_count": 6,
   "metadata": {},
   "outputs": [
    {
     "name": "stdout",
     "output_type": "stream",
     "text": [
      "index 0 0\n",
      "sum: 4\n",
      "index 0 1\n",
      "sum: 9\n",
      "Result: [0, 1]\n",
      "index 0 0\n",
      "sum: 6\n",
      "Result: [0, 0]\n",
      "index 0 0\n",
      "sum: 6\n",
      "Result: [0, 0]\n"
     ]
    }
   ],
   "source": [
    "from typing import List\n",
    "\n",
    "class Solution:\n",
    "    def twoSum(self, nums: List[int], target: int) -> List[int]:\n",
    "        for i in range(len(nums)):\n",
    "            for j in range(len(nums)):\n",
    "                print('index', i, j)\n",
    "                sum = nums[i] + nums[j]\n",
    "                print('sum:',sum)\n",
    "                if nums[i] + nums[j] == target:\n",
    "                    return [i, j]\n",
    "        return []\n",
    "\n",
    "sol = Solution()\n",
    "print('Result:', sol.twoSum([2,7,11,15], 9))\n",
    "print('Result:', sol.twoSum([3,2,4], 6))\n",
    "print('Result:', sol.twoSum([3,3], 6))"
   ]
  }
 ],
 "metadata": {
  "kernelspec": {
   "display_name": ".venv",
   "language": "python",
   "name": "python3"
  },
  "language_info": {
   "codemirror_mode": {
    "name": "ipython",
    "version": 3
   },
   "file_extension": ".py",
   "mimetype": "text/x-python",
   "name": "python",
   "nbconvert_exporter": "python",
   "pygments_lexer": "ipython3",
   "version": "3.12.3"
  }
 },
 "nbformat": 4,
 "nbformat_minor": 2
}
